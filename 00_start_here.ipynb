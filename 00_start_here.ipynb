{
 "cells": [
  {
   "cell_type": "markdown",
   "id": "623743e8-2cd7-47c6-99e7-100979384579",
   "metadata": {
    "collapsed": false,
    "name": "md_intro"
   },
   "source": [
    "# Cryptocurrency Stock Analytics\n",
    "* Last Updated: 2/25/2025\n",
    "\n",
    "Welcome to the beginning of the Quickstart! Please refer to [QuickStart For Crypto Data Engineering Pipelines with Snowpark Notebooks](https://codelabs-preview.appspot.com/?file_id=1YSeHJtOA5iL07o71Xsk5OWpftGxDQF0aYC6Bi9oy7Ro/#0) for all the details including set up steps."
   ]
  },
  {
   "cell_type": "markdown",
   "id": "9e6273e5-bcf7-4492-92f6-cc161da082c6",
   "metadata": {
    "collapsed": false,
    "name": "md_step03"
   },
   "source": [
    "## Step 03 Setup Snowflake\n",
    "\n",
    "During this step we will create our CRYPTO environment. Update the SQL variables below with your GitHub username and Personal Access Token (PAT) as well as with your forked GitHub repository information.\n",
    "\n",
    "**Important**: Please make sure you have created the `dev` branch in your forked repository before continuing here. For instructions please see [Step 2 in the Quickstart](https://quickstarts.snowflake.com/guide/data_engineering_with_notebooks/index.html?index=..%2F..index#1)."
   ]
  },
  {
   "cell_type": "code",
   "execution_count": null,
   "id": "e898c514-831d-4aa7-9697-004994953950",
   "metadata": {
    "collapsed": false,
    "language": "sql",
    "name": "sql_step03_set_context"
   },
   "outputs": [],
   "source": [
    "SET MY_USER = CURRENT_USER();\n",
    "\n",
    "SET GITHUB_SECRET_USERNAME = 'uk1601';\n",
    "SET GITHUB_SECRET_PASSWORD = '';\n",
    "SET GITHUB_URL_PREFIX = 'https://github.com/';\n",
    "SET GITHUB_REPO_ORIGIN = 'https://github.com/uk1601/Crypto_Analytics_Snowflake_Dataengineering_pipeline_streaming.git';\n",
    "SET RAPIDAPI_KEY = '';\n",
    "SET AWS_ACCESS_KEY_ID = '';\n",
    "SET AWS_SECRET_ACCESS_KEY = '';\n",
    "SET AWS_REGION = 'us-east-1';\n"
   ]
  },
  {
   "cell_type": "code",
   "execution_count": null,
   "id": "dc608c96-0957-47e1-8492-bc8d382925e3",
   "metadata": {
    "collapsed": false,
    "language": "sql",
    "name": "sql_step03_account_objects"
   },
   "outputs": [],
   "source": [
    "-- ----------------------------------------------------------------------------\n",
    "-- Create the account level objects (ACCOUNTADMIN part)\n",
    "-- ----------------------------------------------------------------------------\n",
    "\n",
    "USE ROLE ACCOUNTADMIN;\n",
    "\n",
    "-- Roles\n",
    "CREATE OR REPLACE ROLE CRYPTO_ROLE;\n",
    "GRANT ROLE CRYPTO_ROLE TO ROLE SYSADMIN;\n",
    "GRANT ROLE CRYPTO_ROLE TO USER IDENTIFIER($MY_USER);\n",
    "\n",
    "GRANT CREATE INTEGRATION ON ACCOUNT TO ROLE CRYPTO_ROLE;\n",
    "GRANT EXECUTE TASK ON ACCOUNT TO ROLE CRYPTO_ROLE;\n",
    "GRANT EXECUTE MANAGED TASK ON ACCOUNT TO ROLE CRYPTO_ROLE;\n",
    "GRANT MONITOR EXECUTION ON ACCOUNT TO ROLE CRYPTO_ROLE;\n",
    "GRANT IMPORTED PRIVILEGES ON DATABASE SNOWFLAKE TO ROLE CRYPTO_ROLE;\n",
    "\n",
    "-- Databases\n",
    "CREATE OR REPLACE DATABASE CRYPTO_DB;\n",
    "GRANT OWNERSHIP ON DATABASE CRYPTO_DB TO ROLE CRYPTO_ROLE;\n",
    "\n",
    "-- Warehouses\n",
    "CREATE OR REPLACE WAREHOUSE CRYPTO_WH WAREHOUSE_SIZE = XSMALL, AUTO_SUSPEND = 300, AUTO_RESUME= TRUE;\n",
    "GRANT OWNERSHIP ON WAREHOUSE CRYPTO_WH TO ROLE CRYPTO_ROLE;"
   ]
  },
  {
   "cell_type": "code",
   "execution_count": null,
   "id": "a1e2ae2c-241b-4d8f-aa99-11a35f9833a4",
   "metadata": {
    "collapsed": false,
    "language": "sql",
    "name": "sql_step03_database_objects"
   },
   "outputs": [],
   "source": [
    "-- ----------------------------------------------------------------------------\n",
    "-- Create the database level objects\n",
    "-- ----------------------------------------------------------------------------\n",
    "USE ROLE CRYPTO_ROLE;\n",
    "USE WAREHOUSE CRYPTO_WH;\n",
    "USE DATABASE CRYPTO_DB;\n",
    "\n",
    "-- Schemas\n",
    "CREATE OR REPLACE SCHEMA INTEGRATIONS;\n",
    "CREATE OR REPLACE SCHEMA DEV_SCHEMA;\n",
    "CREATE OR REPLACE SCHEMA PROD_SCHEMA;\n",
    "\n",
    "USE SCHEMA INTEGRATIONS;\n",
    "\n",
    "-- External Crypto objects\n",
    "CREATE OR REPLACE STAGE CRYPTO_RAW_STAGE\n",
    "  URL = 's3://damg7245-crypto/raw_data/'\n",
    "  CREDENTIALS = (\n",
    "    AWS_KEY_ID = ''\n",
    "    AWS_SECRET_KEY = ''\n",
    ");\n",
    "\n",
    "-- Secrets (schema level)\n",
    "-- GitHub Credentials\n",
    "CREATE OR REPLACE SECRET CRYPTO_GITHUB_SECRET\n",
    "  TYPE = password\n",
    "  PASSWORD = ''\n",
    "  USERNAME = 'uk1601'; -- Directly use the username value-- Directly use the password value\n",
    "\n",
    "CREATE OR REPLACE SECRET CRYPTO_API_SECRET\n",
    "  TYPE = password\n",
    "  USERNAME = 'rapidapi'  -- Can be any identifier for the API\n",
    "  PASSWORD = '';\n",
    "\n",
    "\n",
    "CREATE OR REPLACE SECRET CRYPTO_AWS_CREDENTIALS\n",
    "  TYPE = GENERIC_STRING\n",
    "  SECRET_STRING = '{\n",
    "    \"ACCESS_KEY_ID\": \"\",\n",
    "    \"SECRET_ACCESS_KEY\": \"\",\n",
    "    \"REGION\": \"us-east-1\"\n",
    "  }'\n",
    "  COMMENT = 'AWS credentials for cryptocurrency data pipeline';"
   ]
  },
  {
   "cell_type": "code",
   "execution_count": null,
   "id": "2ef4691b-8b67-4223-b425-9973685316ad",
   "metadata": {
    "collapsed": false,
    "language": "sql",
    "name": "cell5"
   },
   "outputs": [],
   "source": [
    "-- Check if the CRYPTO_API_SECRET exists\n",
    "SHOW SECRETS LIKE 'CRYPTO_API_SECRET';\n",
    "\n",
    "-- Check if the CRYPTO_AWS_CREDENTIALS exists\n",
    "SHOW SECRETS LIKE 'CRYPTO_AWS_CREDENTIALS';"
   ]
  },
  {
   "cell_type": "code",
   "execution_count": null,
   "id": "46e9e34a-1414-4498-820f-aef6f43c69f8",
   "metadata": {
    "collapsed": false,
    "language": "sql",
    "name": "cell3"
   },
   "outputs": [],
   "source": [
    "-- API Integration (account level)\n",
    "-- This depends on the schema level secret!\n",
    "USE ROLE ACCOUNTADMIN;\n",
    "\n",
    "-- Create the GitHub API integration\n",
    "CREATE OR REPLACE API INTEGRATION CRYPTO_GITHUB_API_INTEGRATION\n",
    "  API_PROVIDER = GIT_HTTPS_API\n",
    "  API_ALLOWED_PREFIXES = ($GITHUB_URL_PREFIX)\n",
    "  ALLOWED_AUTHENTICATION_SECRETS = (CRYPTO_GITHUB_SECRET)\n",
    "  ENABLED = TRUE;\n",
    "\n",
    "-- Create the Git repository\n",
    "CREATE OR REPLACE GIT REPOSITORY CRYPTO_GIT_REPO\n",
    "  API_INTEGRATION = CRYPTO_GITHUB_API_INTEGRATION\n",
    "  GIT_CREDENTIALS = CRYPTO_GITHUB_SECRET\n",
    "  ORIGIN = $GITHUB_REPO_ORIGIN;\n",
    "\n",
    "-- Grant usage on the integration to CRYPTO_ROLE\n",
    "GRANT USAGE ON INTEGRATION CRYPTO_GITHUB_API_INTEGRATION TO ROLE CRYPTO_ROLE;\n"
   ]
  },
  {
   "cell_type": "code",
   "execution_count": null,
   "id": "06f26add-547e-4d60-8897-d5ad79b3311d",
   "metadata": {
    "collapsed": false,
    "language": "sql",
    "name": "sql_step03_event_table"
   },
   "outputs": [],
   "source": [
    "-- ----------------------------------------------------------------------------\n",
    "-- Create the event table\n",
    "-- ----------------------------------------------------------------------------\n",
    "USE ROLE ACCOUNTADMIN;\n",
    "\n",
    "CREATE or REPLACE EVENT TABLE CRYPTO_DB.INTEGRATIONS.CRYPTO_EVENTS;\n",
    "GRANT SELECT ON EVENT TABLE CRYPTO_DB.INTEGRATIONS.CRYPTO_EVENTS TO ROLE CRYPTO_ROLE;\n",
    "GRANT INSERT ON EVENT TABLE CRYPTO_DB.INTEGRATIONS.CRYPTO_EVENTS TO ROLE CRYPTO_ROLE;\n",
    "\n",
    "ALTER ACCOUNT SET EVENT_TABLE = CRYPTO_DB.INTEGRATIONS.CRYPTO_EVENTS;\n",
    "ALTER DATABASE CRYPTO_DB SET LOG_LEVEL = INFO;"
   ]
  },
  {
   "cell_type": "code",
   "execution_count": null,
   "id": "3fca1b92-664d-423b-9cd5-860d8b53fb8e",
   "metadata": {
    "collapsed": false,
    "language": "sql",
    "name": "cell9"
   },
   "outputs": [],
   "source": [
    "-- ONLY grant READ permissions on the Git repository (remove the USAGE grant entirely)\n",
    "GRANT READ ON GIT REPOSITORY CRYPTO_DB.INTEGRATIONS.CRYPTO_GIT_REPO TO ROLE CRYPTO_ROLE;"
   ]
  },
  {
   "cell_type": "markdown",
   "id": "9531119f-76fc-4a2f-a635-a5a7526ac152",
   "metadata": {
    "collapsed": false,
    "name": "md_step04_deploy_dev_notebooks"
   },
   "source": [
    "## Step 04 Deploy to Dev\n",
    "\n",
    "Finally we will use `EXECUTE IMMEDIATE FROM <file>` along with Jinja templating to deploy the Dev version of our Notebooks. We will directly execute the SQL script scripts/deploy_notebooks.sql` from our Git repository which has the SQL commands to deploy a Notebook from a Git repo.\n",
    "\n",
    "See [EXECUTE IMMEDIATE FROM](https://docs.snowflake.com/en/sql-reference/sql/execute-immediate-from) for more details."
   ]
  },
  {
   "cell_type": "code",
   "execution_count": null,
   "id": "ad8676d0-7f82-4639-a5e2-29f7f9dca0f5",
   "metadata": {
    "collapsed": false,
    "language": "sql",
    "name": "sql_step04_deploy_dev_notebooks"
   },
   "outputs": [],
   "source": [
    "USE ROLE CRYPTO_ROLE;\n",
    "USE WAREHOUSE CRYPTO_WH;\n",
    "USE SCHEMA CRYPTO_DB.INTEGRATIONS;\n",
    "\n",
    "-- Execute the deployment script\n",
    "EXECUTE IMMEDIATE FROM @CRYPTO_GIT_REPO/branches/main/scripts/deploy_notebooks.sql\n",
    "  USING (env => 'DEV', branch => 'dev');"
   ]
  },
  {
   "cell_type": "markdown",
   "id": "8ad46ffc-1137-43dc-add8-7fc02914bbaa",
   "metadata": {
    "collapsed": false,
    "name": "md_step09"
   },
   "source": [
    "## Deploy to Production\n",
    "\n",
    "Steps\n",
    "1. Make a small change to a notebook and commit it to the dev branch\n",
    "1. Go into GitHub and create a PR and Merge to main branch\n",
    "1. Review GitHub Actions workflow definition and run results\n",
    "1. See new \"PROD_\" versions of the Notebooks\n",
    "1. Deploy the production version of the task DAG\n",
    "1. Run production version of the task DAG and see new tables created!"
   ]
  },
  {
   "cell_type": "markdown",
   "id": "ba497c01-0988-4c07-af66-79ee2918cffa",
   "metadata": {
    "collapsed": false,
    "name": "md_step10"
   },
   "source": [
    "## Teardown\n",
    "\n",
    "Finally, we will tear down our CRYPTO environment."
   ]
  },
  {
   "cell_type": "code",
   "execution_count": null,
   "id": "f47ca116-4585-4668-bb72-cf74b0e7b587",
   "metadata": {
    "language": "sql",
    "name": "sql_step10"
   },
   "outputs": [],
   "source": [
    "USE ROLE ACCOUNTADMIN;\n",
    "\n",
    "DROP API INTEGRATION CRYPTO_GITHUB_API_INTEGRATION;\n",
    "DROP DATABASE CRYPTO_DB;\n",
    "DROP WAREHOUSE CRYPTO_WH;\n",
    "DROP ROLE CRYPTO_ROLE;\n",
    "\n",
    "-- Drop the weather share\n",
    "DROP DATABASE FROSTBYTE_WEATHERSOURCE;\n",
    "\n",
    "-- Remove the \"dev\" branch in your repo"
   ]
  }
 ],
 "metadata": {
  "kernelspec": {
   "display_name": "Python 3",
   "language": "python",
   "name": "python3"
  },
  "language_info": {
   "name": "python",
   "version": "3.13.3"
  },
  "lastEditStatus": {
   "authorEmail": "prasanna.vi@northeastern.edu",
   "authorId": "726488193010",
   "authorName": "udaykiran",
   "lastEditTime": 1740850984830,
   "notebookId": "2fdm5xdevq45ehjorlbd",
   "sessionId": "c92d710b-bbaa-4860-9c34-88e2f4ff2616"
  }
 },
 "nbformat": 4,
 "nbformat_minor": 5
}
