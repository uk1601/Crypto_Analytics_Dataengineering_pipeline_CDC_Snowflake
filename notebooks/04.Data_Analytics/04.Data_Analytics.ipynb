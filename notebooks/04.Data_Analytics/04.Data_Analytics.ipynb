{
 "metadata": {
  "language_info": {
   "name": "python"
  },
  "lastEditStatus": {
   "notebookId": "v7vjubhextt63qqace76",
   "authorId": "726488193010",
   "authorName": "udaykiran",
   "authorEmail": "prasanna.vi@northeastern.edu",
   "sessionId": "a6c995e3-101e-4c77-bedd-3054999aa095",
   "lastEditTime": 1740808223479
  }
 },
 "nbformat_minor": 2,
 "nbformat": 4,
 "cells": [
  {
   "cell_type": "code",
   "id": "af94629e-9877-4a61-aa98-e6c6bd9ebfb1",
   "metadata": {
    "language": "python",
    "name": "cell13",
    "collapsed": false
   },
   "outputs": [],
   "source": "from snowflake.snowpark import Session\nsession = Session.builder.getOrCreate()",
   "execution_count": null
  },
  {
   "cell_type": "code",
   "execution_count": null,
   "metadata": {
    "name": "cell1",
    "language": "sql",
    "collapsed": false
   },
   "outputs": [],
   "source": "-- # Cell 1: Create Analytics Schema\n-- %%sql\nUSE ROLE CRYPTO_ROLE;\nCREATE SCHEMA IF NOT EXISTS CRYPTO_DB.ANALYTICS_CRYPTO;\n",
   "id": "ce110000-1111-2222-3333-ffffff000000"
  },
  {
   "cell_type": "code",
   "execution_count": null,
   "metadata": {
    "name": "cell2",
    "language": "sql"
   },
   "outputs": [],
   "source": "-- # # Cell 2: Create Daily Performance Metrics Table\n-- # %%sql\nCREATE OR REPLACE TABLE CRYPTO_DB.ANALYTICS_CRYPTO.DAILY_PERFORMANCE (\n    crypto_symbol VARCHAR(10),\n    date_day DATE,\n    open_price FLOAT,\n    high_price FLOAT,\n    low_price FLOAT,\n    close_price FLOAT,\n    volume FLOAT,\n    daily_return FLOAT,\n    daily_return_pct FLOAT,\n    daily_volatility FLOAT,\n    moving_avg_7d FLOAT,\n    moving_avg_30d FLOAT,\n    rsi_14d FLOAT,\n    volume_change_pct FLOAT,\n    PRIMARY KEY (crypto_symbol, date_day)\n);",
   "id": "ce110000-1111-2222-3333-ffffff000001"
  },
  {
   "cell_type": "code",
   "execution_count": null,
   "metadata": {
    "name": "cell3",
    "language": "sql"
   },
   "outputs": [],
   "source": "-- # # Cell 3: Create Weekly Performance Metrics Table\n-- # %%sql\nCREATE OR REPLACE TABLE CRYPTO_DB.ANALYTICS_CRYPTO.WEEKLY_PERFORMANCE (\n    crypto_symbol VARCHAR(10),\n    week_start_date DATE,\n    week_end_date DATE,\n    open_price FLOAT,\n    high_price FLOAT,\n    low_price FLOAT,\n    close_price FLOAT,\n    avg_volume FLOAT,\n    weekly_return FLOAT,\n    weekly_return_pct FLOAT,\n    weekly_volatility FLOAT,\n    avg_rsi FLOAT,\n    PRIMARY KEY (crypto_symbol, week_start_date)\n);",
   "id": "ce110000-1111-2222-3333-ffffff000002"
  },
  {
   "cell_type": "code",
   "execution_count": null,
   "metadata": {
    "name": "cell4",
    "language": "sql",
    "collapsed": false
   },
   "outputs": [],
   "source": "-- # # Cell 4: Create Monthly Performance Metrics Table\n-- # %%sql\nCREATE OR REPLACE TABLE CRYPTO_DB.ANALYTICS_CRYPTO.MONTHLY_PERFORMANCE (\n    crypto_symbol VARCHAR(10),\n    month_start_date DATE,\n    month_end_date DATE,\n    open_price FLOAT,\n    high_price FLOAT,\n    low_price FLOAT,\n    close_price FLOAT,\n    avg_volume FLOAT,\n    monthly_return FLOAT,\n    monthly_return_pct FLOAT,\n    monthly_volatility FLOAT,\n    max_daily_gain FLOAT,\n    max_daily_loss FLOAT,\n    PRIMARY KEY (crypto_symbol, month_start_date)\n);",
   "id": "ce110000-1111-2222-3333-ffffff000003"
  },
  {
   "cell_type": "code",
   "execution_count": null,
   "metadata": {
    "name": "cell5",
    "language": "sql",
    "collapsed": false
   },
   "outputs": [],
   "source": "-- # # Cell 5: Create RSI Calculation Function\n-- # %%sql\nCREATE OR REPLACE FUNCTION CRYPTO_DB.ANALYTICS_CRYPTO.CALCULATE_RSI(gains ARRAY, losses ARRAY)\nRETURNS FLOAT\nLANGUAGE PYTHON\nRUNTIME_VERSION = '3.8'\nHANDLER = 'calculate_rsi'\nPACKAGES = ('numpy')\nAS\n$$\nimport numpy as np\n\ndef calculate_rsi(gains, losses):\n    if not gains or not losses or len(gains) < 14 or len(losses) < 14:\n        return None\n    # Calculate average gain and average loss\n    avg_gain = np.mean(gains[-14:])\n    avg_loss = np.mean(losses[-14:])\n    if avg_loss == 0:\n        return 100.0\n    rs = avg_gain / avg_loss\n    rsi = 100 - (100 / (1 + rs))\n    return float(rsi)\n$$;;",
   "id": "ce110000-1111-2222-3333-ffffff000004"
  },
  {
   "cell_type": "code",
   "execution_count": null,
   "metadata": {
    "name": "cell6",
    "language": "sql",
    "collapsed": false
   },
   "outputs": [],
   "source": "CREATE OR REPLACE PROCEDURE CRYPTO_DB.ANALYTICS_CRYPTO.UPDATE_CRYPTO_ANALYTICS()\nRETURNS STRING\nLANGUAGE SQL\nAS\n$$\nDECLARE\n    last_update_date DATE;\n    current_date DATE;\nBEGIN\n    -- Get the last update date from the daily performance table\n    SELECT COALESCE(MAX(date_day), '2020-01-01'::DATE) \n    INTO last_update_date \n    FROM CRYPTO_DB.ANALYTICS_CRYPTO.DAILY_PERFORMANCE;\n    \n    -- Get current date\n    SELECT CURRENT_DATE() INTO current_date;\n    \n    -- Update Daily Performance\n    INSERT INTO CRYPTO_DB.ANALYTICS_CRYPTO.DAILY_PERFORMANCE (\n        crypto_symbol,\n        date_day,\n        open_price,\n        high_price,\n        low_price,\n        close_price,\n        volume,\n        daily_return,\n        daily_return_pct,\n        daily_volatility,\n        moving_avg_7d,\n        moving_avg_30d,\n        rsi_14d,\n        volume_change_pct\n    )\n    WITH price_data AS (\n        SELECT \n            crypto_symbol,\n            date_day,\n            FIRST_VALUE(open) OVER (PARTITION BY crypto_symbol, date_day ORDER BY timestamp) AS open_price,\n            MAX(high) OVER (PARTITION BY crypto_symbol, date_day) AS high_price,\n            MIN(low) OVER (PARTITION BY crypto_symbol, date_day) AS low_price,\n            LAST_VALUE(close) OVER (PARTITION BY crypto_symbol, date_day ORDER BY timestamp ROWS BETWEEN UNBOUNDED PRECEDING AND UNBOUNDED FOLLOWING) AS close_price,\n            SUM(volume) OVER (PARTITION BY crypto_symbol, date_day) AS volume\n        FROM CRYPTO_DB.HARMONIZED_CRYPTO.CRYPTO_HARMONIZED\n        WHERE date_day > :last_update_date AND date_day <= :current_date\n    ),\n    daily_data AS (\n        SELECT DISTINCT\n            crypto_symbol,\n            date_day,\n            open_price,\n            high_price,\n            low_price,\n            close_price,\n            volume\n        FROM price_data\n    ),\n    prior_day AS (\n        SELECT \n            d.crypto_symbol,\n            d.date_day,\n            LAG(d.close_price) OVER (PARTITION BY d.crypto_symbol ORDER BY d.date_day) AS prev_close,\n            LAG(d.volume) OVER (PARTITION BY d.crypto_symbol ORDER BY d.date_day) AS prev_volume\n        FROM daily_data d\n    ),\n    price_changes AS (\n        SELECT \n            d.crypto_symbol,\n            d.date_day,\n            d.open_price,\n            d.high_price,\n            d.low_price,\n            d.close_price,\n            d.volume,\n            d.close_price - p.prev_close AS daily_return,\n            CASE WHEN p.prev_close > 0 THEN (d.close_price - p.prev_close) / p.prev_close * 100 ELSE NULL END AS daily_return_pct,\n            (d.high_price - d.low_price) / d.open_price * 100 AS daily_volatility,\n            CASE WHEN p.prev_volume > 0 THEN (d.volume - p.prev_volume) / p.prev_volume * 100 ELSE NULL END AS volume_change_pct\n        FROM daily_data d\n        LEFT JOIN prior_day p ON d.crypto_symbol = p.crypto_symbol AND d.date_day = p.date_day\n    ),\n    moving_avgs AS (\n        SELECT \n            crypto_symbol,\n            date_day,\n            AVG(close_price) OVER (PARTITION BY crypto_symbol ORDER BY date_day ROWS BETWEEN 6 PRECEDING AND CURRENT ROW) AS moving_avg_7d,\n            AVG(close_price) OVER (PARTITION BY crypto_symbol ORDER BY date_day ROWS BETWEEN 29 PRECEDING AND CURRENT ROW) AS moving_avg_30d\n        FROM price_changes\n    ),\n    -- For RSI calculation\n    gains_losses AS (\n        SELECT \n            crypto_symbol,\n            date_day,\n            CASE WHEN daily_return > 0 THEN daily_return ELSE 0 END AS gain,\n            CASE WHEN daily_return < 0 THEN ABS(daily_return) ELSE 0 END AS loss\n        FROM price_changes\n    ),\n    array_agg_data AS (\n        SELECT \n            gl.crypto_symbol,\n            gl.date_day,\n            ARRAY_AGG(gl2.gain) OVER (PARTITION BY gl.crypto_symbol ORDER BY gl2.date_day ROWS BETWEEN 13 PRECEDING AND CURRENT ROW) AS gains_array,\n            ARRAY_AGG(gl2.loss) OVER (PARTITION BY gl.crypto_symbol ORDER BY gl2.date_day ROWS BETWEEN 13 PRECEDING AND CURRENT ROW) AS losses_array\n        FROM gains_losses gl\n        JOIN gains_losses gl2 ON gl.crypto_symbol = gl2.crypto_symbol AND gl2.date_day <= gl.date_day\n        QUALIFY ROW_NUMBER() OVER (PARTITION BY gl.crypto_symbol, gl.date_day ORDER BY gl2.date_day DESC) = 1\n    )\n    SELECT \n        pc.crypto_symbol,\n        pc.date_day,\n        pc.open_price,\n        pc.high_price,\n        pc.low_price,\n        pc.close_price,\n        pc.volume,\n        pc.daily_return,\n        pc.daily_return_pct,\n        pc.daily_volatility,\n        ma.moving_avg_7d,\n        ma.moving_avg_30d,\n        CRYPTO_DB.ANALYTICS_CRYPTO.CALCULATE_RSI(ad.gains_array, ad.losses_array) AS rsi_14d,\n        pc.volume_change_pct\n    FROM price_changes pc\n    JOIN moving_avgs ma ON pc.crypto_symbol = ma.crypto_symbol AND pc.date_day = ma.date_day\n    LEFT JOIN array_agg_data ad ON pc.crypto_symbol = ad.crypto_symbol AND pc.date_day = ad.date_day\n    WHERE NOT EXISTS (\n        SELECT 1 FROM CRYPTO_DB.ANALYTICS_CRYPTO.DAILY_PERFORMANCE \n        WHERE crypto_symbol = pc.crypto_symbol AND date_day = pc.date_day\n    )\n    ORDER BY pc.crypto_symbol, pc.date_day;\n\n    -- Update Weekly Performance\n    -- First, delete any partial week data that may need to be recalculated\n    DELETE FROM CRYPTO_DB.ANALYTICS_CRYPTO.WEEKLY_PERFORMANCE\n    WHERE week_end_date >= DATE_TRUNC('WEEK', :last_update_date);\n    \n    -- Insert new and updated weekly data\n    INSERT INTO CRYPTO_DB.ANALYTICS_CRYPTO.WEEKLY_PERFORMANCE (\n        crypto_symbol,\n        week_start_date,\n        week_end_date,\n        open_price,\n        high_price,\n        low_price,\n        close_price,\n        avg_volume,\n        weekly_return,\n        weekly_return_pct,\n        weekly_volatility,\n        avg_rsi\n    )\n    WITH weekly_aggregates AS (\n        SELECT \n            crypto_symbol,\n            DATE_TRUNC('WEEK', date_day) AS week_start_date,\n            DATEADD('DAY', 6, DATE_TRUNC('WEEK', date_day)) AS week_end_date,\n            MIN(date_day) AS min_date,\n            MAX(date_day) AS max_date,\n            MAX(high_price) AS high_price,\n            MIN(low_price) AS low_price,\n            AVG(volume) AS avg_volume,\n            AVG(daily_volatility) AS weekly_volatility,\n            AVG(rsi_14d) AS avg_rsi\n        FROM CRYPTO_DB.ANALYTICS_CRYPTO.DAILY_PERFORMANCE\n        WHERE date_day > DATE_TRUNC('WEEK', :last_update_date)\n        AND date_day <= :current_date\n        GROUP BY crypto_symbol, DATE_TRUNC('WEEK', date_day)\n    ),\n    weekly_data AS (\n        SELECT \n            wa.crypto_symbol,\n            wa.week_start_date,\n            wa.week_end_date,\n            d_first.open_price,\n            wa.high_price,\n            wa.low_price,\n            d_last.close_price,\n            wa.avg_volume,\n            wa.weekly_volatility,\n            wa.avg_rsi\n        FROM weekly_aggregates wa\n        JOIN CRYPTO_DB.ANALYTICS_CRYPTO.DAILY_PERFORMANCE d_first \n            ON wa.crypto_symbol = d_first.crypto_symbol AND wa.min_date = d_first.date_day\n        JOIN CRYPTO_DB.ANALYTICS_CRYPTO.DAILY_PERFORMANCE d_last \n            ON wa.crypto_symbol = d_last.crypto_symbol AND wa.max_date = d_last.date_day\n    )\n    SELECT \n        crypto_symbol,\n        week_start_date,\n        week_end_date,\n        open_price,\n        high_price,\n        low_price,\n        close_price,\n        avg_volume,\n        close_price - open_price AS weekly_return,\n        (close_price - open_price) / open_price * 100 AS weekly_return_pct,\n        weekly_volatility,\n        avg_rsi\n    FROM weekly_data\n    ORDER BY crypto_symbol, week_start_date;\n\n    -- Update Monthly Performance (similar structure to weekly)\n    DELETE FROM CRYPTO_DB.ANALYTICS_CRYPTO.MONTHLY_PERFORMANCE\n    WHERE month_end_date >= DATE_TRUNC('MONTH', :last_update_date);\n    \n    INSERT INTO CRYPTO_DB.ANALYTICS_CRYPTO.MONTHLY_PERFORMANCE (\n        crypto_symbol,\n        month_start_date,\n        month_end_date,\n        open_price,\n        high_price,\n        low_price,\n        close_price,\n        avg_volume,\n        monthly_return,\n        monthly_return_pct,\n        monthly_volatility,\n        max_daily_gain,\n        max_daily_loss\n    )\n    WITH monthly_aggregates AS (\n        SELECT \n            crypto_symbol,\n            DATE_TRUNC('MONTH', date_day) AS month_start_date,\n            LAST_DAY(date_day) AS month_end_date,\n            MIN(date_day) AS min_date,\n            MAX(date_day) AS max_date,\n            MAX(high_price) AS high_price,\n            MIN(low_price) AS low_price,\n            AVG(volume) AS avg_volume,\n            AVG(daily_volatility) AS monthly_volatility,\n            MAX(daily_return_pct) AS max_daily_gain,\n            MIN(daily_return_pct) AS max_daily_loss\n        FROM CRYPTO_DB.ANALYTICS_CRYPTO.DAILY_PERFORMANCE\n        WHERE date_day > DATE_TRUNC('MONTH', :last_update_date)\n        AND date_day <= :current_date\n        GROUP BY crypto_symbol, DATE_TRUNC('MONTH', date_day), LAST_DAY(date_day)\n    ),\n    monthly_data AS (\n        SELECT \n            ma.crypto_symbol,\n            ma.month_start_date,\n            ma.month_end_date,\n            d_first.open_price,\n            ma.high_price,\n            ma.low_price,\n            d_last.close_price,\n            ma.avg_volume,\n            ma.monthly_volatility,\n            ma.max_daily_gain,\n            ma.max_daily_loss\n        FROM monthly_aggregates ma\n        JOIN CRYPTO_DB.ANALYTICS_CRYPTO.DAILY_PERFORMANCE d_first \n            ON ma.crypto_symbol = d_first.crypto_symbol AND ma.min_date = d_first.date_day\n        JOIN CRYPTO_DB.ANALYTICS_CRYPTO.DAILY_PERFORMANCE d_last \n            ON ma.crypto_symbol = d_last.crypto_symbol AND ma.max_date = d_last.date_day\n    )\n    SELECT \n        crypto_symbol,\n        month_start_date,\n        month_end_date,\n        open_price,\n        high_price,\n        low_price,\n        close_price,\n        avg_volume,\n        close_price - open_price AS monthly_return,\n        (close_price - open_price) / open_price * 100 AS monthly_return_pct,\n        monthly_volatility,\n        max_daily_gain,\n        max_daily_loss\n    FROM monthly_data\n    ORDER BY crypto_symbol, month_start_date;\n\n    RETURN 'Successfully updated analytics tables with data from ' || :last_update_date || ' to ' || :current_date;\nEND;\n$$;",
   "id": "ce110000-1111-2222-3333-ffffff000005"
  },
  {
   "cell_type": "code",
   "id": "7f970d44-e2bb-4a31-9b51-c454fc57eff6",
   "metadata": {
    "language": "sql",
    "name": "cell14",
    "collapsed": false
   },
   "outputs": [],
   "source": "SHOW FUNCTIONS LIKE 'CALCULATE_RSI' IN SCHEMA CRYPTO_DB.ANALYTICS_CRYPTO;",
   "execution_count": null
  },
  {
   "cell_type": "code",
   "id": "ab510af5-6df4-4ab3-9c2d-860cd86e86f0",
   "metadata": {
    "language": "sql",
    "name": "cell15",
    "collapsed": false
   },
   "outputs": [],
   "source": "SELECT CURRENT_DATE();",
   "execution_count": null
  },
  {
   "cell_type": "code",
   "execution_count": null,
   "metadata": {
    "name": "cell7",
    "language": "sql",
    "collapsed": false
   },
   "outputs": [],
   "source": "-- # Cell 7: Create task to run the analytics update procedure daily\n-- %%sql\nCREATE OR REPLACE TASK CRYPTO_DB.ANALYTICS_CRYPTO.DAILY_ANALYTICS_UPDATE_TASK\n    WAREHOUSE = CRYPTO_WH\n    SCHEDULE = 'USING CRON 0 1 * * * UTC'\nAS\n    CALL CRYPTO_DB.ANALYTICS_CRYPTO.UPDATE_CRYPTO_ANALYTICS();\n",
   "id": "ce110000-1111-2222-3333-ffffff000006"
  },
  {
   "cell_type": "code",
   "execution_count": null,
   "metadata": {
    "name": "cell8",
    "language": "sql",
    "collapsed": false
   },
   "outputs": [],
   "source": "CALL CRYPTO_DB.ANALYTICS_CRYPTO.UPDATE_CRYPTO_ANALYTICS();",
   "id": "ce110000-1111-2222-3333-ffffff000007"
  },
  {
   "cell_type": "code",
   "execution_count": null,
   "metadata": {
    "name": "cell9",
    "language": "sql",
    "collapsed": false
   },
   "outputs": [],
   "source": "-- # Cell 9: Resume the task for automated updates\n-- %%sql\nALTER TASK CRYPTO_DB.ANALYTICS_CRYPTO.DAILY_ANALYTICS_UPDATE_TASK RESUME;\n\n",
   "id": "ce110000-1111-2222-3333-ffffff000008"
  },
  {
   "cell_type": "code",
   "execution_count": null,
   "metadata": {
    "name": "cell10",
    "language": "python",
    "collapsed": false
   },
   "outputs": [],
   "source": [
    "# Cell 10: View sample of daily performance data\n",
    "daily_performance = session.sql(\"\"\"\n",
    "SELECT * FROM CRYPTO_DB.ANALYTICS_CRYPTO.DAILY_PERFORMANCE\n",
    "ORDER BY crypto_symbol, date_day DESC\n",
    "LIMIT 10\n",
    "\"\"\")\n",
    "daily_performance.show()"
   ],
   "id": "ce110000-1111-2222-3333-ffffff000009"
  },
  {
   "cell_type": "code",
   "execution_count": null,
   "metadata": {
    "name": "cell11",
    "language": "python",
    "collapsed": false
   },
   "outputs": [],
   "source": [
    "# Cell 11: View sample of weekly performance data\n",
    "weekly_performance = session.sql(\"\"\"\n",
    "SELECT * FROM CRYPTO_DB.ANALYTICS_CRYPTO.WEEKLY_PERFORMANCE\n",
    "ORDER BY crypto_symbol, week_start_date DESC\n",
    "LIMIT 5\n",
    "\"\"\")\n",
    "weekly_performance.show()\n"
   ],
   "id": "ce110000-1111-2222-3333-ffffff000010"
  },
  {
   "cell_type": "code",
   "execution_count": null,
   "metadata": {
    "name": "cell12",
    "language": "sql",
    "collapsed": false
   },
   "outputs": [],
   "source": "CREATE OR REPLACE VIEW CRYPTO_DB.ANALYTICS_CRYPTO.PERFORMANCE_SUMMARY AS\nWITH latest_daily AS (\n    SELECT \n        crypto_symbol,\n        MAX(date_day) as latest_date\n    FROM CRYPTO_DB.ANALYTICS_CRYPTO.DAILY_PERFORMANCE\n    GROUP BY crypto_symbol\n),\nlatest_values AS (\n    SELECT \n        d.crypto_symbol,\n        d.date_day,\n        d.close_price as current_price,\n        d.daily_return_pct as daily_change_pct,\n        d.rsi_14d,\n        d.moving_avg_30d\n    FROM CRYPTO_DB.ANALYTICS_CRYPTO.DAILY_PERFORMANCE d\n    JOIN latest_daily ld ON d.crypto_symbol = ld.crypto_symbol AND d.date_day = ld.latest_date\n),\nweekly_metrics AS (\n    SELECT\n        crypto_symbol,\n        MAX(week_start_date) as latest_week,\n        weekly_return_pct\n    FROM CRYPTO_DB.ANALYTICS_CRYPTO.WEEKLY_PERFORMANCE\n    GROUP BY crypto_symbol, weekly_return_pct\n    QUALIFY ROW_NUMBER() OVER (PARTITION BY crypto_symbol ORDER BY MAX(week_start_date) DESC) = 1\n),\nmonthly_metrics AS (\n    SELECT\n        crypto_symbol,\n        MAX(month_start_date) as latest_month,\n        monthly_return_pct,\n        max_daily_gain,\n        max_daily_loss\n    FROM CRYPTO_DB.ANALYTICS_CRYPTO.MONTHLY_PERFORMANCE\n    GROUP BY crypto_symbol, monthly_return_pct, max_daily_gain, max_daily_loss\n    QUALIFY ROW_NUMBER() OVER (PARTITION BY crypto_symbol ORDER BY MAX(month_start_date) DESC) = 1\n)\nSELECT\n    lv.crypto_symbol,\n    lv.date_day as last_updated,\n    lv.current_price,\n    lv.daily_change_pct,\n    wm.weekly_return_pct,\n    mm.monthly_return_pct,\n    lv.rsi_14d,\n    CASE \n        WHEN lv.rsi_14d > 70 THEN 'Overbought'\n        WHEN lv.rsi_14d < 30 THEN 'Oversold'\n        ELSE 'Neutral'\n    END as rsi_signal,\n    CASE\n        WHEN lv.current_price > lv.moving_avg_30d THEN 'Above 30D MA'\n        ELSE 'Below 30D MA'\n    END as trend_signal,\n    mm.max_daily_gain,\n    mm.max_daily_loss\nFROM latest_values lv\nJOIN weekly_metrics wm ON lv.crypto_symbol = wm.crypto_symbol\nJOIN monthly_metrics mm ON lv.crypto_symbol = mm.crypto_symbol\nORDER BY lv.crypto_symbol;",
   "id": "ce110000-1111-2222-3333-ffffff000011"
  }
 ]
}