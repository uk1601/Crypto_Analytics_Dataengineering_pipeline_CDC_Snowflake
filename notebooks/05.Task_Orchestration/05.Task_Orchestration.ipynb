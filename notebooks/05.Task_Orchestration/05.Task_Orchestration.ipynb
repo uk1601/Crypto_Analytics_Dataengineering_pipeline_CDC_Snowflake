{
 "metadata": {
  "kernelspec": {
   "display_name": "Snowpark",
   "language": "python",
   "name": "snowpark"
  },
  "language_info": {
   "codemirror_mode": {
    "name": "ipython",
    "version": 3
   },
   "file_extension": ".py",
   "mimetype": "text/x-python",
   "name": "python",
   "nbconvert_exporter": "python",
   "pygments_lexer": "ipython3",
   "version": "3.8.15"
  },
  "lastEditStatus": {
   "notebookId": "676f7c2fxhguj4amvgys",
   "authorId": "726488193010",
   "authorName": "udaykiran",
   "authorEmail": "prasanna.vi@northeastern.edu",
   "sessionId": "c2c5b9ef-2162-407b-88f0-8737f37e6b15",
   "lastEditTime": 1742333680393
  }
 },
 "nbformat_minor": 4,
 "nbformat": 4,
 "cells": [
  {
   "cell_type": "markdown",
   "id": "ce110000-1111-2222-3333-ffffff000000",
   "metadata": {
    "name": "cell1"
   },
   "source": [
    "# Cryptocurrency Data Pipeline - Task Orchestration & Automation\n",
    "\n",
    "This notebook implements the task orchestration layer for the cryptocurrency data pipeline, automating the flow from data ingestion through harmonization to analytics."
   ]
  },
  {
   "cell_type": "markdown",
   "id": "ce110000-1111-2222-3333-ffffff000001",
   "metadata": {
    "name": "cell2"
   },
   "source": [
    "## Setup Environment"
   ]
  },
  {
   "cell_type": "code",
   "execution_count": null,
   "id": "21e1d693-f727-4a80-84ba-d620033dd778",
   "metadata": {
    "collapsed": false,
    "language": "python",
    "name": "cell27"
   },
   "outputs": [],
   "source": [
    "from snowflake.snowpark import Session\n",
    "session = Session.builder.getOrCreate()"
   ]
  },
  {
   "cell_type": "code",
   "execution_count": null,
   "id": "ce110000-1111-2222-3333-ffffff000002",
   "metadata": {
    "collapsed": false,
    "language": "sql",
    "name": "cell3"
   },
   "outputs": [],
   "source": [
    "-- %%sql\n",
    "USE ROLE CRYPTO_ROLE;\n",
    "USE WAREHOUSE CRYPTO_WH;\n",
    "USE SCHEMA CRYPTO_DB.HARMONIZED_CRYPTO;"
   ]
  },
  {
   "cell_type": "markdown",
   "id": "ce110000-1111-2222-3333-ffffff000003",
   "metadata": {
    "name": "cell4"
   },
   "source": [
    "## Create Tasks for Pipeline Automation\n",
    "\n",
    "### 1. Data Ingestion Task - Runs every 4 hours to fetch new data"
   ]
  },
  {
   "cell_type": "code",
   "execution_count": null,
   "id": "61dd55ae-696e-4fc9-8880-045343b06933",
   "metadata": {
    "collapsed": false,
    "language": "sql",
    "name": "cell28"
   },
   "outputs": [],
   "source": "CREATE OR REPLACE PROCEDURE CRYPTO_DB.HARMONIZED_CRYPTO.LOAD_CRYPTO_DATA_SP()\nRETURNS VARIANT\nLANGUAGE JAVASCRIPT\nEXECUTE AS OWNER\nAS '\ntry {\n  // Crypto files to load\n  const CRYPTO_FILES = [\n    {file: ''BTC_raw_daily.csv'', table: ''BTC''},\n    {file: ''ETH_raw_daily.csv'', table: ''ETH''},\n    {file: ''DOGE_raw_daily.csv'', table: ''DOGE''}\n  ];\n  \n  var results = {\n    status: ''success'',\n    details: {},\n    error: null\n  };\n  \n  // Process each cryptocurrency file\n  for (const crypto of CRYPTO_FILES) {\n    // Load data from S3 to Snowflake\n    const tableName = crypto.table;\n    const fileName = crypto.file;\n    \n    // Create temp table with the correct structure (6 columns)\n    var createTempTableStmt = snowflake.createStatement({\n      sqlText: `\n        CREATE OR REPLACE TEMPORARY TABLE crypto_temp_${tableName} (\n          \"date\" TIMESTAMP_NTZ(9),\n          \"open\" NUMBER(17,11),\n          \"high\" NUMBER(17,11),\n          \"low\" NUMBER(17,11),\n          \"close\" NUMBER(17,11),\n          \"volume\" NUMBER(38,0)\n        )\n      `\n    });\n    createTempTableStmt.execute();\n    \n    // Copy data from S3 to temp table\n    var copyStmt = snowflake.createStatement({\n      sqlText: `\n        COPY INTO crypto_temp_${tableName}\n        FROM @CRYPTO_DB.INTEGRATIONS.CRYPTO_RAW_STAGE/${fileName}\n        FILE_FORMAT = (TYPE = CSV, SKIP_HEADER = 1)\n      `\n    });\n    var copyResult = copyStmt.execute();\n    \n    // Merge data into target table\n    var mergeStmt = snowflake.createStatement({\n      sqlText: `\n        MERGE INTO CRYPTO_DB.RAW_CRYPTO.${tableName} target\n        USING crypto_temp_${tableName} source\n        ON target.\"date\" = source.\"date\"\n        WHEN MATCHED THEN\n          UPDATE SET \n            target.\"open\" = source.\"open\",\n            target.\"high\" = source.\"high\",\n            target.\"low\" = source.\"low\",\n            target.\"close\" = source.\"close\",\n            target.\"volume\" = source.\"volume\"\n        WHEN NOT MATCHED THEN\n          INSERT (\"date\", \"open\", \"high\", \"low\", \"close\", \"volume\")\n          VALUES (source.\"date\", source.\"open\", source.\"high\", source.\"low\", source.\"close\", source.\"volume\")\n      `\n    });\n    var mergeResult = mergeStmt.execute();\n    \n    // Get counts for reporting\n    var countStmt = snowflake.createStatement({\n      sqlText: `SELECT COUNT(*) FROM crypto_temp_${tableName}`\n    });\n    var countResult = countStmt.execute();\n    countResult.next();\n    var rowCount = countResult.getColumnValue(1);\n    \n    // Record results\n    results.details[tableName] = {\n      file: fileName,\n      rows_processed: rowCount,\n      status: ''success''\n    };\n  }\n  \n  return results;\n  \n} catch (error) {\n  return {\n    status: ''error'',\n    message: error.message,\n    stack: error.stack\n  };\n}\n';"
  },
  {
   "cell_type": "code",
   "execution_count": null,
   "id": "ce110000-1111-2222-3333-ffffff000004",
   "metadata": {
    "collapsed": false,
    "language": "sql",
    "name": "cell5"
   },
   "outputs": [],
   "source": "-- %%sql\nUSE ROLE CRYPTO_ROLE;\nCREATE OR REPLACE TASK CRYPTO_DB.HARMONIZED_CRYPTO.LOAD_CRYPTO_TASK\n    WAREHOUSE = CRYPTO_WH\n    SCHEDULE = 'USING CRON 0 */4 * * * UTC'  -- Run every 4 hours\nAS\nCALL CRYPTO_DB.HARMONIZED_CRYPTO.LOAD_CRYPTO_DATA_SP();"
  },
  {
   "cell_type": "code",
   "id": "4ce7fc47-ccf9-4ebf-86eb-fa72cd1be8e0",
   "metadata": {
    "language": "sql",
    "name": "cell30"
   },
   "outputs": [],
   "source": "-- Create stream on BTC table to capture changes\nCREATE OR REPLACE STREAM CRYPTO_DB.HARMONIZED_CRYPTO.RAW_CRYPTO_STREAM_BTC\n  ON TABLE CRYPTO_DB.RAW_CRYPTO.BTC;\n\n-- Create stream on ETH table to capture changes\nCREATE OR REPLACE STREAM CRYPTO_DB.HARMONIZED_CRYPTO.RAW_CRYPTO_STREAM_ETH\n  ON TABLE CRYPTO_DB.RAW_CRYPTO.ETH;\n\n-- Create stream on DOGE table to capture changes\nCREATE OR REPLACE STREAM CRYPTO_DB.HARMONIZED_CRYPTO.RAW_CRYPTO_STREAM_DOGE\n  ON TABLE CRYPTO_DB.RAW_CRYPTO.DOGE;",
   "execution_count": null
  },
  {
   "cell_type": "code",
   "id": "0c77a78e-2b01-4ac9-8b7f-d4935cbef316",
   "metadata": {
    "language": "sql",
    "name": "cell34"
   },
   "outputs": [],
   "source": "-- Grant privileges on the streams to CRYPTO_ROLE\nGRANT SELECT ON STREAM CRYPTO_DB.HARMONIZED_CRYPTO.RAW_CRYPTO_STREAM_BTC TO ROLE CRYPTO_ROLE;\nGRANT SELECT ON STREAM CRYPTO_DB.HARMONIZED_CRYPTO.RAW_CRYPTO_STREAM_ETH TO ROLE CRYPTO_ROLE;\nGRANT SELECT ON STREAM CRYPTO_DB.HARMONIZED_CRYPTO.RAW_CRYPTO_STREAM_DOGE TO ROLE CRYPTO_ROLE;",
   "execution_count": null
  },
  {
   "cell_type": "code",
   "execution_count": null,
   "id": "16e9403b-c418-43eb-a798-c006206f6a26",
   "metadata": {
    "collapsed": false,
    "language": "sql",
    "name": "cell29"
   },
   "outputs": [],
   "source": [
    "EXECUTE TASK CRYPTO_DB.HARMONIZED_CRYPTO.LOAD_CRYPTO_TASK;"
   ]
  },
  {
   "cell_type": "code",
   "execution_count": null,
   "id": "5b74df39-34cd-4519-9cc2-b89b20dad520",
   "metadata": {
    "collapsed": false,
    "language": "sql",
    "name": "cell31"
   },
   "outputs": [],
   "source": [
    "SHOW TASKS LIKE 'LOAD_CRYPTO_TASK' IN SCHEMA CRYPTO_DB.HARMONIZED_CRYPTO;"
   ]
  },
  {
   "cell_type": "code",
   "execution_count": null,
   "id": "c5d3f3af-e169-47f4-bc98-9658e1bcc63f",
   "metadata": {
    "language": "sql",
    "name": "cell32"
   },
   "outputs": [],
   "source": [
    "EXECUTE TASK CRYPTO_DB.HARMONIZED_CRYPTO.LOAD_CRYPTO_TASK;"
   ]
  },
  {
   "cell_type": "code",
   "execution_count": null,
   "id": "d1c9601c-ef94-45fe-963f-13ba7b35c2fc",
   "metadata": {
    "language": "sql",
    "name": "cell33"
   },
   "outputs": [],
   "source": [
    "SELECT *\n",
    "FROM TABLE(INFORMATION_SCHEMA.TASK_HISTORY(\n",
    "    SCHEDULED_TIME_RANGE_START=>DATEADD('MINUTE',-10,CURRENT_TIMESTAMP()),\n",
    "    RESULT_LIMIT => 10))\n",
    "WHERE NAME = 'LOAD_CRYPTO_TASK'\n",
    "ORDER BY SCHEDULED_TIME DESC;"
   ]
  },
  {
   "cell_type": "markdown",
   "id": "ce110000-1111-2222-3333-ffffff000005",
   "metadata": {
    "name": "cell6"
   },
   "source": [
    "### 2. Create Task for Data Harmonization - Triggered when new data arrives"
   ]
  },
  {
   "cell_type": "code",
   "execution_count": null,
   "id": "ce110000-1111-2222-3333-ffffff000006",
   "metadata": {
    "collapsed": false,
    "language": "sql",
    "name": "cell7"
   },
   "outputs": [],
   "source": "-- %%sql\nCREATE OR REPLACE TASK CRYPTO_DB.HARMONIZED_CRYPTO.HARMONIZE_CRYPTO_TASK\n    WAREHOUSE = CRYPTO_WH\n    AFTER CRYPTO_DB.HARMONIZED_CRYPTO.LOAD_CRYPTO_TASK\n    WHEN SYSTEM$STREAM_HAS_DATA('CRYPTO_DB.HARMONIZED_CRYPTO.RAW_CRYPTO_STREAM_BTC')\n    OR SYSTEM$STREAM_HAS_DATA('CRYPTO_DB.HARMONIZED_CRYPTO.RAW_CRYPTO_STREAM_ETH')\n    OR SYSTEM$STREAM_HAS_DATA('CRYPTO_DB.HARMONIZED_CRYPTO.RAW_CRYPTO_STREAM_DOGE')\nAS\nCALL CRYPTO_DB.HARMONIZED_CRYPTO.HARMONIZE_CRYPTO_DATA_SP();"
  },
  {
   "cell_type": "markdown",
   "id": "ce110000-1111-2222-3333-ffffff000007",
   "metadata": {
    "name": "cell8"
   },
   "source": [
    "### 3. Create Task to Update Analytics Tables - Runs after harmonization completes"
   ]
  },
  {
   "cell_type": "code",
   "execution_count": null,
   "id": "ce110000-1111-2222-3333-ffffff000008",
   "metadata": {
    "collapsed": false,
    "language": "sql",
    "name": "cell9"
   },
   "outputs": [],
   "source": [
    "USE ROLE CRYPTO_ROLE;\n",
    "CREATE OR REPLACE TASK CRYPTO_DB.HARMONIZED_CRYPTO.UPDATE_CRYPTO_METRICS_TASK\n",
    "    WAREHOUSE = CRYPTO_WH\n",
    "    AFTER CRYPTO_DB.HARMONIZED_CRYPTO.HARMONIZE_CRYPTO_TASK\n",
    "    WHEN SYSTEM$STREAM_HAS_DATA('CRYPTO_DB.HARMONIZED_CRYPTO.CRYPTO_HARMONIZED_STREAM')\n",
    "AS\n",
    "CALL CRYPTO_DB.ANALYTICS_CRYPTO.UPDATE_CRYPTO_ANALYTICS();"
   ]
  },
  {
   "cell_type": "markdown",
   "id": "ce110000-1111-2222-3333-ffffff000009",
   "metadata": {
    "name": "cell10"
   },
   "source": [
    "## Set Up Change Tracking with Streams\n",
    "\n",
    "Streams track changes in tables to trigger downstream processes only when new data exists."
   ]
  },
  {
   "cell_type": "code",
   "execution_count": null,
   "id": "ce110000-1111-2222-3333-ffffff000010",
   "metadata": {
    "collapsed": false,
    "language": "sql",
    "name": "cell11"
   },
   "outputs": [],
   "source": [
    "-- Create a stream on the harmonized data for change tracking\n",
    "USE ROLE CRYPTO_ROLE;\n",
    "CREATE OR REPLACE STREAM CRYPTO_DB.HARMONIZED_CRYPTO.CRYPTO_HARMONIZED_STREAM\n",
    "ON TABLE CRYPTO_DB.HARMONIZED_CRYPTO.CRYPTO_HARMONIZED;"
   ]
  },
  {
   "cell_type": "code",
   "execution_count": null,
   "id": "35408c98-c701-4039-917e-b2f008c01903",
   "metadata": {
    "language": "sql",
    "name": "cell26"
   },
   "outputs": [],
   "source": [
    "SHOW TABLES IN SCHEMA CRYPTO_DB.HARMONIZED_CRYPTO;"
   ]
  },
  {
   "cell_type": "code",
   "execution_count": null,
   "id": "ce110000-1111-2222-3333-ffffff000011",
   "metadata": {
    "collapsed": false,
    "language": "sql",
    "name": "cell12"
   },
   "outputs": [],
   "source": [
    "-- Create stream for BTC (already done)\n",
    "CREATE OR REPLACE STREAM CRYPTO_DB.HARMONIZED_CRYPTO.RAW_CRYPTO_STREAM_BTC\n",
    "ON TABLE CRYPTO_DB.RAW_CRYPTO.BTC;\n",
    "\n",
    "-- Create stream for ETH\n",
    "CREATE OR REPLACE STREAM CRYPTO_DB.HARMONIZED_CRYPTO.RAW_CRYPTO_STREAM_ETH\n",
    "ON TABLE CRYPTO_DB.RAW_CRYPTO.ETH;\n",
    "\n",
    "-- Create stream for DOGE\n",
    "CREATE OR REPLACE STREAM CRYPTO_DB.HARMONIZED_CRYPTO.RAW_CRYPTO_STREAM_DOGE\n",
    "ON TABLE CRYPTO_DB.RAW_CRYPTO.DOGE;"
   ]
  },
  {
   "cell_type": "markdown",
   "id": "ce110000-1111-2222-3333-ffffff000012",
   "metadata": {
    "name": "cell13"
   },
   "source": [
    "## Activate the Automation Pipeline\n",
    "\n",
    "Resume all tasks to start the automation workflow. Tasks are resumed in reverse order of their dependency chain."
   ]
  },
  {
   "cell_type": "code",
   "execution_count": null,
   "id": "ce110000-1111-2222-3333-ffffff000013",
   "metadata": {
    "collapsed": false,
    "language": "sql",
    "name": "cell14"
   },
   "outputs": [],
   "source": [
    "-- %%sql\n",
    "-- %%sql\n",
    "ALTER TASK CRYPTO_DB.HARMONIZED_CRYPTO.UPDATE_CRYPTO_METRICS_TASK RESUME;\n",
    "ALTER TASK CRYPTO_DB.HARMONIZED_CRYPTO.HARMONIZE_CRYPTO_TASK RESUME;\n",
    "ALTER TASK CRYPTO_DB.HARMONIZED_CRYPTO.LOAD_CRYPTO_TASK RESUME;"
   ]
  },
  {
   "cell_type": "markdown",
   "id": "ce110000-1111-2222-3333-ffffff000016",
   "metadata": {
    "name": "cell17"
   },
   "source": [
    "### View Task Dependency Graph"
   ]
  },
  {
   "cell_type": "code",
   "execution_count": null,
   "id": "ce110000-1111-2222-3333-ffffff000017",
   "metadata": {
    "collapsed": false,
    "language": "sql",
    "name": "cell18"
   },
   "outputs": [],
   "source": [
    "\n",
    "SELECT *\n",
    "FROM TABLE(INFORMATION_SCHEMA.CURRENT_TASK_GRAPHS())\n",
    "ORDER BY SCHEDULED_TIME;"
   ]
  },
  {
   "cell_type": "markdown",
   "id": "ce110000-1111-2222-3333-ffffff000022",
   "metadata": {
    "name": "cell23"
   },
   "source": [
    "## Set Up Alert Notifications\n",
    "\n",
    "Create email alerts that will notify administrators when tasks fail"
   ]
  },
  {
   "cell_type": "code",
   "execution_count": null,
   "id": "ce110000-1111-2222-3333-ffffff000023",
   "metadata": {
    "collapsed": false,
    "language": "sql",
    "name": "cell24"
   },
   "outputs": [],
   "source": [
    "\n",
    "-- CREATE OR REPLACE NOTIFICATION INTEGRATION crypto_email_integration\n",
    "--   TYPE = EMAIL\n",
    "--   ENABLED = TRUE;\n",
    "\n",
    "-- CREATE OR REPLACE ALERT CRYPTO_DB.ANALYTICS_CRYPTO.TASK_FAILURE_ALERT\n",
    "--   WAREHOUSE = CRYPTO_WH\n",
    "--   SCHEDULE = 'USING CRON 0 */1 * * * UTC'  -- Check every hour\n",
    "--   IF (EXISTS (\n",
    "--     SELECT 1 \n",
    "--     FROM TABLE(INFORMATION_SCHEMA.TASK_HISTORY(\n",
    "--       SCHEDULED_TIME_RANGE_START=>DATEADD('HOUR',-1,CURRENT_TIMESTAMP())))\n",
    "--     WHERE STATE = 'FAILED'\n",
    "--   ))\n",
    "--   THEN CALL SYSTEM$SEND_EMAIL(\n",
    "--     'crypto_email_integration',\n",
    "--     'admin@example.com',\n",
    "--     'Crypto Pipeline Task Failure Alert',\n",
    "--     'A task in the Crypto data pipeline has failed in the last hour. Please check the task history.'\n",
    "--   );\n",
    "\n",
    "-- -- Resume the alert to activate it\n",
    "-- ALTER ALERT CRYPTO_DB.ANALYTICS_CRYPTO.TASK_FAILURE_ALERT RESUME;"
   ]
  },
  {
   "cell_type": "markdown",
   "id": "ce110000-1111-2222-3333-ffffff000024",
   "metadata": {
    "name": "cell25"
   },
   "source": [
    "## Pipeline Visualization\n",
    "\n",
    "The cryptocurrency data pipeline has the following task dependencies:\n",
    "\n",
    "```\n",
    "LOAD_CRYPTO_TASK (every 4 hours)\n",
    "       |\n",
    "       V\n",
    "HARMONIZE_CRYPTO_TASK (when RAW_CRYPTO_STREAM has data)\n",
    "       |\n",
    "       V\n",
    "UPDATE_CRYPTO_METRICS_TASK (when CRYPTO_HARMONIZED_STREAM has data)\n",
    "```\n",
    "\n",
    "This creates a fully automated workflow that processes data in stages:\n",
    "1. Ingest raw cryptocurrency data\n",
    "2. Transform and harmonize the data\n",
    "3. Calculate analytics and metrics\n",
    "\n",
    "Each step only runs when there is actual new data to process, optimizing resource usage."
   ]
  }
 ]
}